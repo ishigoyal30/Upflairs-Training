{
 "cells": [
  {
   "cell_type": "code",
   "execution_count": null,
   "metadata": {},
   "outputs": [],
   "source": [
    "from time import sleep"
   ]
  },
  {
   "cell_type": "code",
   "execution_count": null,
   "metadata": {},
   "outputs": [],
   "source": [
    "import cv2\n",
    "import matplotlib.pyplot as plt \n"
   ]
  },
  {
   "cell_type": "code",
   "execution_count": null,
   "metadata": {},
   "outputs": [],
   "source": [
    "from cv2 import VideoCapture\n",
    "\n",
    "\n",
    "vid = cv2.VideoCapture(0) \n",
    "vid "
   ]
  },
  {
   "cell_type": "code",
   "execution_count": null,
   "metadata": {},
   "outputs": [],
   "source": [
    "vid.isOpened()"
   ]
  },
  {
   "cell_type": "code",
   "execution_count": null,
   "metadata": {},
   "outputs": [],
   "source": [
    "k= vid.read() "
   ]
  },
  {
   "cell_type": "code",
   "execution_count": null,
   "metadata": {},
   "outputs": [],
   "source": [
    "type(k), len(k)"
   ]
  },
  {
   "cell_type": "code",
   "execution_count": null,
   "metadata": {},
   "outputs": [],
   "source": [
    "k"
   ]
  },
  {
   "cell_type": "code",
   "execution_count": null,
   "metadata": {},
   "outputs": [],
   "source": [
    "flag, img = vid.read()"
   ]
  },
  {
   "cell_type": "code",
   "execution_count": null,
   "metadata": {},
   "outputs": [],
   "source": [
    "if flag:\n",
    "    plt.imshow(img)"
   ]
  },
  {
   "cell_type": "code",
   "execution_count": null,
   "metadata": {},
   "outputs": [],
   "source": [
    "if flag:\n",
    "    plt.imshow(img[:,::-1,::-1])"
   ]
  },
  {
   "cell_type": "code",
   "execution_count": null,
   "metadata": {},
   "outputs": [],
   "source": [
    "for i in range(100):\n",
    "    flag, img = vid.read()\n",
    "    if flag:\n",
    "        cv2.imshow('Preview',img)\n",
    "        cv2.waitKey(1)"
   ]
  },
  {
   "cell_type": "code",
   "execution_count": null,
   "metadata": {},
   "outputs": [],
   "source": [
    "for i in range(100):\n",
    "    flag, img = vid.read()\n",
    "    if flag:\n",
    "        cv2.imshow('Preview',img)\n",
    "        key = cv2.waitKey(1)\n",
    "        if key == ord('x'):\n",
    "            break \n",
    "    else:\n",
    "        break\n",
    "    sleep(0.1)\n",
    "vid.release()\n",
    "cv2.destroyAllWindows()\n"
   ]
  },
  {
   "cell_type": "code",
   "execution_count": null,
   "metadata": {},
   "outputs": [],
   "source": [
    "vid = cv2.VideoCapture(0)\n",
    "\n",
    "while True:\n",
    "    flag, img = vid.read()\n",
    "    if flag:\n",
    "        img_gray = cv2.cvtColor(img, cv2.COLOR_BGR2GRAY)\n",
    "        \n",
    "        \n",
    "        cv2.imshow('Preview',img_gray)\n",
    "        key = cv2.waitKey(1)\n",
    "        if key == ord('q'):\n",
    "            break\n",
    "    else:\n",
    "        break\n",
    "    sleep(0.1)\n",
    "vid.release()\n",
    "cv2.destroyAllWindows()"
   ]
  },
  {
   "cell_type": "code",
   "execution_count": null,
   "metadata": {},
   "outputs": [],
   "source": [
    "vid = cv2.VideoCapture(0)\n",
    "\n",
    "\n",
    "while True:\n",
    "    flag, img = vid.read()\n",
    "    if flag:\n",
    "        img_gray = cv2.cvtColor(img, cv2.COLOR_BGR2GRAY)\n",
    "        \n",
    "        (thresh, img_binary) = cv2.threshold(img, 175, 255, cv2.THRESH_BINARY)\n",
    "        \n",
    "        cv2.imshow('Preview',img_binary)\n",
    "        key = cv2.waitKey(1)\n",
    "        if key == ord('q'):\n",
    "            break\n",
    "    else:\n",
    "        break\n",
    "    sleep(0.1)\n",
    "vid.release()\n",
    "cv2.destroyAllWindows()"
   ]
  },
  {
   "cell_type": "code",
   "execution_count": null,
   "metadata": {},
   "outputs": [],
   "source": [
    "vid= cv2.VideoCapture(0)\n",
    "\n",
    "while True:\n",
    "    flag , img = vid.read()\n",
    "    if flag:\n",
    "        img_grey = cv2.cvtColor(img, cv2.COLOR_BGR2GRAY)\n",
    "        \n",
    "        x1,y1,w,h=(200,400,200,200)\n",
    "        img_cropped= img[y1:y1+h, x1:x1+w, :]\n",
    "        \n",
    "        cv2.imshow('Preview' ,img_cropped)\n",
    "        key = cv2.waitKey(1)\n",
    "        if key == ord('q'):\n",
    "            break\n",
    "    else:\n",
    "        break\n",
    "    sleep(0.1)\n",
    "vid.release()\n",
    "cv2.destroyAllWindows() "
   ]
  },
  {
   "cell_type": "code",
   "execution_count": null,
   "metadata": {},
   "outputs": [],
   "source": [
    "vid= cv2.VideoCapture(0)\n",
    "\n",
    "while True:\n",
    "    flag , img = vid.read()\n",
    "    if flag:\n",
    "        img_grey = cv2.cvtColor(img, cv2.COLOR_BGR2GRAY)\n",
    "        \n",
    "        x1,y1,w,h=(100,200,100,100)\n",
    "        \n",
    "        cv2.rectangle(\n",
    "            img,\n",
    "            pt1=(x1,y1), pt2=(x1+w, y1+h),\n",
    "            color=(0,0,255),thickness=3\n",
    "        )\n",
    "        \n",
    "        cv2.imshow('Preview' ,img)\n",
    "        key = cv2.waitKey(1)\n",
    "        if key == ord('q'):\n",
    "            break\n",
    "    else:\n",
    "        break\n",
    "    sleep(0.1)\n",
    "vid.release()\n",
    "cv2.destroyAllWindows() "
   ]
  },
  {
   "cell_type": "code",
   "execution_count": null,
   "metadata": {},
   "outputs": [],
   "source": [
    "import numpy as np \n",
    "import cv2\n",
    "from time import sleep\n",
    "fd = cv2.CascadeClassifier(cv2.data.haarcascades + 'haarcascade_frontalface_default.xml')\n",
    "vid = cv2.VideoCapture(0)\n",
    "\n",
    "while True:\n",
    "    flag , img = vid.read()\n",
    "    if flag:\n",
    "        img_gray = cv2.cvtColor(img, cv2.COLOR_BGR2GRAY)\n",
    "        \n",
    "        x1,y1,w,h=(100,200,100,100)\n",
    "        \n",
    "        faces = fd\n",
    "        for x1,y1,w,h in faces:\n",
    "            cv2.rectangle(\n",
    "                img,\n",
    "                pt1=(x1,y1), pt2=(x1+w, y1+h),\n",
    "                color=(0,0,255),thickness=3\n",
    "            )\n",
    "          \n",
    "        cv2.imshow('Preview' ,img)\n",
    "        key = cv2.waitKey(1)\n",
    "        if key == ord('q'):\n",
    "            break\n",
    "    else:\n",
    "        break\n",
    "    sleep(0.1)\n",
    "vid.release()\n",
    "cv2.destroyAllWindows() "
   ]
  },
  {
   "cell_type": "code",
   "execution_count": null,
   "metadata": {},
   "outputs": [],
   "source": []
  }
 ],
 "metadata": {
  "kernelspec": {
   "display_name": "Python 3",
   "language": "python",
   "name": "python3"
  },
  "language_info": {
   "codemirror_mode": {
    "name": "ipython",
    "version": 3
   },
   "file_extension": ".py",
   "mimetype": "text/x-python",
   "name": "python",
   "nbconvert_exporter": "python",
   "pygments_lexer": "ipython3",
   "version": "3.10.9"
  },
  "orig_nbformat": 4
 },
 "nbformat": 4,
 "nbformat_minor": 2
}
